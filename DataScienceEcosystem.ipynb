{
 "cells": [
  {
   "cell_type": "markdown",
   "id": "2e8179f0",
   "metadata": {},
   "source": [
    "# Data Science Tools and Ecosystem"
   ]
  },
  {
   "cell_type": "markdown",
   "id": "8880c184",
   "metadata": {},
   "source": [
    "In this notebook, Data Science Tools and Ecosystem are summarized."
   ]
  },
  {
   "cell_type": "markdown",
   "id": "55b98e7e",
   "metadata": {},
   "source": [
    "# Objectives:\n",
    "\n",
    "* list of popular languages for data science\n",
    "* list of common libraries used in data science\n",
    "* Data science tools\n",
    "* Examples of arithmetic experessions in Python."
   ]
  },
  {
   "cell_type": "markdown",
   "id": "b630755c",
   "metadata": {},
   "source": [
    "Some of the popular languages that Data Scientists use are:\n",
    "1. R\n",
    "2. SQL\n",
    "3. Python\n",
    "4. Scala\n",
    "5. Java\n",
    "6. Julia"
   ]
  },
  {
   "cell_type": "markdown",
   "id": "753038e4",
   "metadata": {},
   "source": [
    "Some of the commonly used libraries used by Data Scientists include:\n",
    "1. Pandas\n",
    "2. Numpy\n",
    "3. Keras\n",
    "4. Pytorch\n",
    "5. ggplot2"
   ]
  },
  {
   "cell_type": "markdown",
   "id": "86b6e3b3",
   "metadata": {},
   "source": [
    "| Data Science Tools |\n",
    "| :----------------: |\n",
    "| Python             |\n",
    "| RStudio            |\n",
    "| Jupyter Notebook   |"
   ]
  },
  {
   "cell_type": "markdown",
   "id": "34a4e464",
   "metadata": {},
   "source": [
    "### Below are a few examples of evaluating arithmetic expressions in Python"
   ]
  },
  {
   "cell_type": "code",
   "execution_count": 4,
   "id": "104a4a3f",
   "metadata": {},
   "outputs": [
    {
     "data": {
      "text/plain": [
       "17"
      ]
     },
     "execution_count": 4,
     "metadata": {},
     "output_type": "execute_result"
    }
   ],
   "source": [
    "# This a simple arithmetic expression to mutiply then add integers\n",
    "(3*4)+5"
   ]
  },
  {
   "cell_type": "code",
   "execution_count": 1,
   "id": "54520740",
   "metadata": {},
   "outputs": [
    {
     "data": {
      "text/plain": [
       "3.3333333333333335"
      ]
     },
     "execution_count": 1,
     "metadata": {},
     "output_type": "execute_result"
    }
   ],
   "source": [
    "# This will convert 200 minutes to hours by diving by 60.\n",
    "\n",
    "200/60"
   ]
  },
  {
   "cell_type": "markdown",
   "id": "3b3ea5d1",
   "metadata": {},
   "source": [
    "## Author\n",
    "\n",
    "Ruth makolo"
   ]
  },
  {
   "cell_type": "code",
   "execution_count": null,
   "id": "1e2c66e3",
   "metadata": {},
   "outputs": [],
   "source": []
  }
 ],
 "metadata": {
  "kernelspec": {
   "display_name": "Python 3 (ipykernel)",
   "language": "python",
   "name": "python3"
  },
  "language_info": {
   "codemirror_mode": {
    "name": "ipython",
    "version": 3
   },
   "file_extension": ".py",
   "mimetype": "text/x-python",
   "name": "python",
   "nbconvert_exporter": "python",
   "pygments_lexer": "ipython3",
   "version": "3.11.5"
  }
 },
 "nbformat": 4,
 "nbformat_minor": 5
}
